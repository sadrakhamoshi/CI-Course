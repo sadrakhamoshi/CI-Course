{
  "nbformat": 4,
  "nbformat_minor": 0,
  "metadata": {
    "colab": {
      "provenance": [],
      "collapsed_sections": [],
      "include_colab_link": true
    },
    "kernelspec": {
      "display_name": "Python 3",
      "language": "python",
      "name": "python3"
    },
    "language_info": {
      "codemirror_mode": {
        "name": "ipython",
        "version": 3
      },
      "file_extension": ".py",
      "mimetype": "text/x-python",
      "name": "python",
      "nbconvert_exporter": "python",
      "pygments_lexer": "ipython3",
      "version": "3.8.7"
    }
  },
  "cells": [
    {
      "cell_type": "markdown",
      "metadata": {
        "id": "view-in-github",
        "colab_type": "text"
      },
      "source": [
        "<a href=\"https://colab.research.google.com/github/sadrakhamoshi/CI-Course/blob/main/CI992_HW1.ipynb\" target=\"_parent\"><img src=\"https://colab.research.google.com/assets/colab-badge.svg\" alt=\"Open In Colab\"/></a>"
      ]
    },
    {
      "cell_type": "markdown",
      "metadata": {
        "id": "heBxPYfc0U22"
      },
      "source": [
        "# Your info\n",
        "\n",
        "Full name: Sadra khamoshi\n",
        "\n",
        "Student ID: 97521261"
      ]
    },
    {
      "cell_type": "markdown",
      "metadata": {
        "id": "UBD007b3-ntJ"
      },
      "source": [
        "# Q1. Perceptron"
      ]
    },
    {
      "cell_type": "code",
      "metadata": {
        "id": "rld-5wsb1gZS"
      },
      "source": [
        "# Q1_graded\n",
        "# Do not change the above line.\n",
        "\n",
        "# This cell is for your imports.\n",
        "\n",
        "import numpy as np\n",
        "import matplotlib.pyplot as plt\n",
        "np.random.seed(1)"
      ],
      "execution_count": null,
      "outputs": []
    },
    {
      "cell_type": "code",
      "metadata": {
        "id": "ox9t2db4m_YF"
      },
      "source": [
        "# Q1_graded\n",
        "\n",
        "# load data\n",
        "x_train = np.array([\n",
        "  [-1., -1., 1., 1.], \n",
        "  [-1., 1., -1., 1.], \n",
        "])\n",
        "\n",
        "y_train = np.array([\n",
        "  [1., -1, -1, -1]\n",
        "])"
      ],
      "execution_count": null,
      "outputs": []
    },
    {
      "cell_type": "code",
      "metadata": {
        "id": "PKs23FTj_SI8"
      },
      "source": [
        "# Q1_graded\n",
        "# Do not change the above line.\n",
        "\n",
        "# This cell is for your codes.\n",
        "class Perceptron():\n",
        "    def __init__(self, X, y, l_rate=0.1, iterat=5000):\n",
        "        self.features, self.samples = X.shape\n",
        "        self.weights = np.random.randn(1, self.features)\n",
        "        self.bias = 0\n",
        "        self.l_rate = l_rate\n",
        "        self.iteration = iterat\n",
        "        self.errs = []\n",
        "\n",
        "    def sigmoid(self, z):\n",
        "        return 1.0 / (1 + np.exp(-z))\n",
        "\n",
        "    def train(self, X, y):\n",
        "        for i in range(self.iteration):\n",
        "            predict = np.dot(self.weights, X) + self.bias\n",
        "            diff = predict - y\n",
        "            dw = diff * X\n",
        "            db = diff\n",
        "            avg_dw =  (np.sum(dw, axis=1)) / self.samples\n",
        "            avg_db = (np.sum(db, axis=1))  /  self.samples\n",
        "            self.weights -= (self.l_rate * avg_dw)\n",
        "            self.bias -= (self.l_rate * avg_db)\n"
      ],
      "execution_count": null,
      "outputs": []
    },
    {
      "cell_type": "code",
      "metadata": {
        "colab": {
          "base_uri": "https://localhost:8080/"
        },
        "id": "wj2lr3c2qthb",
        "outputId": "ef6d825f-eea4-4d51-f8a5-147d7135fb0f"
      },
      "source": [
        "# Q1_graded\n",
        "\n",
        "# run the code\n",
        "def main():\n",
        "  p = Perceptron(x_train,y_train)\n",
        "  p.train(x_train,y_train)\n",
        "  print(f'weights : {p.weights}')\n",
        "  print(f'bias : {p.bias}')\n",
        "\n",
        "main()\n",
        "\n",
        "\n"
      ],
      "execution_count": null,
      "outputs": [
        {
          "output_type": "stream",
          "text": [
            "weights : [[-0.5 -0.5]]\n",
            "bias : [-0.5]\n"
          ],
          "name": "stdout"
        }
      ]
    },
    {
      "cell_type": "code",
      "metadata": {
        "id": "g5ISMYZ7_S2X"
      },
      "source": [
        "# Q1_graded\n",
        "# Do not change the above line.\n",
        "\n",
        "# This cell is for your codes."
      ],
      "execution_count": null,
      "outputs": []
    },
    {
      "cell_type": "markdown",
      "metadata": {
        "id": "VAAR47H8-5ML"
      },
      "source": [
        "# Q2. Binary Classification"
      ]
    },
    {
      "cell_type": "code",
      "metadata": {
        "id": "LV7Xa2Sx-6cV"
      },
      "source": [
        "# Q2_graded\n",
        "# Do not change the above line.\n",
        "\n",
        "# This cell is for your imports.\n",
        "import numpy as np\n",
        "import matplotlib.pyplot as plt\n",
        "np.random.seed(1)\n"
      ],
      "execution_count": null,
      "outputs": []
    },
    {
      "cell_type": "code",
      "metadata": {
        "id": "bMIDe8oc_TLW"
      },
      "source": [
        "# Q2_graded\n",
        "# Do not change the above line.\n",
        "\n",
        "class Perceptron_q2():\n",
        "    def __init__(self, X, y, l_rate=0.3, iterat=7000):\n",
        "        self.features, self.samples = X.shape\n",
        "        self.weights = np.random.randn(1, self.features)\n",
        "        self.bias = 0\n",
        "        self.l_rate = l_rate\n",
        "        self.iteration = iterat\n",
        "        self.errs = []\n",
        "        self.accuracys = []\n",
        "\n",
        "    def sigmoid(self, z):\n",
        "        return 1.0 / (1 + np.exp(-z))\n",
        "\n",
        "    \n",
        "    def compute_accuracy(self, output, label):\n",
        "        return (100 - np.mean(np.abs(output - label)) * 100)\n",
        "\n",
        "    def train(self, X, y):\n",
        "        for i in range(self.iteration):\n",
        "            z = np.dot(self.weights, X) + self.bias\n",
        "            predict = self.sigmoid(z)\n",
        "            errors = y - predict\n",
        "            tmp = np.sum(0.5 * errors**2,axis=1)\n",
        "            self.errs.append(tmp)\n",
        "            self.accuracys.append(self.compute_accuracy(predict, y))\n",
        "            en_x = errors * X\n",
        "            self.weights += (self.l_rate * en_x.sum(axis=1)) / self.samples\n",
        "            self.bias += (self.l_rate * errors.sum()) / self.samples"
      ],
      "execution_count": null,
      "outputs": []
    },
    {
      "cell_type": "code",
      "metadata": {
        "colab": {
          "base_uri": "https://localhost:8080/",
          "height": 421
        },
        "id": "Q9NXE7Ksvcpm",
        "outputId": "f2a762d3-3efc-43ed-f1d2-62bc234d3359"
      },
      "source": [
        "# Q2_graded\n",
        "\n",
        "# run the code and draw\n",
        "# draw cost (loss) and trained chart\n",
        "\n",
        "def normalize(x):\n",
        "    Max = np.max(x)\n",
        "    Min = np.min(x)\n",
        "    normal = [(n - Min) / (Max - Min) for n in x]\n",
        "    return normal\n",
        "\n",
        "def main_q2():\n",
        "    fi = open('/content/data.txt', 'r')\n",
        "    lines = fi.readlines()\n",
        "    fig = plt.figure(figsize=(18, 6))\n",
        "\n",
        "    ax = fig.add_subplot(131)\n",
        "    ax.title.set_text('Trained data')\n",
        "\n",
        "    ax2 = fig.add_subplot(132)\n",
        "    ax2.title.set_text('Costs')\n",
        "    ax2.set_xlabel('iteration')\n",
        "    ax2.set_ylabel('cost')\n",
        "    \n",
        "\n",
        "    ax3 = fig.add_subplot(133)\n",
        "    ax3.title.set_text('accuracy')\n",
        "    ax3.set_xlabel('iteration')\n",
        "    ax3.set_ylabel('accuracy')\n",
        "\n",
        "    x_in = [float(l.split(',')[0]) for l in lines]\n",
        "    y_in = [float(l.split(',')[1]) for l in lines]\n",
        "    x = normalize(x_in)\n",
        "    y = normalize(y_in)\n",
        "    x_training = np.array([x, y])\n",
        "    o = [1.0 if float(i.split(',')[2]) == 1 else 0.0 for i in lines]\n",
        "    y_out = np.array([o])\n",
        "\n",
        "    color = ['red' if float(i.split(',')[2]) == 1 else 'green' for i in lines]\n",
        "    for i in range(len(color)):\n",
        "        ax.scatter(x[i], y[i], c=color[i])\n",
        "\n",
        "    p = Perceptron_q2(x_training, y_out)\n",
        "\n",
        "    p.train(x_training, y_out)\n",
        "    print(f'weights : {p.weights} bias : {p.bias}')\n",
        "    k = np.linspace(0, 1, 10)\n",
        "    m = (p.weights[0][0] / p.weights[0][1])\n",
        "    z = -(m * k + p.bias / p.weights[0][1])\n",
        "    ax.plot(k, z, 'b')\n",
        "    \n",
        "    x = np.linspace(0,7000,7000)\n",
        "    y = p.errs\n",
        "    ax2.plot(x,y,'y')\n",
        "\n",
        "    ax3.plot(p.accuracys)\n",
        "\n",
        "    plt.show()\n",
        "\n",
        "main_q2()"
      ],
      "execution_count": null,
      "outputs": [
        {
          "output_type": "stream",
          "text": [
            "weights : [[-11.03163269  11.5366818 ]] bias : 1.1836961953712548\n"
          ],
          "name": "stdout"
        },
        {
          "output_type": "display_data",
          "data": {
            "image/png": "[encoded data removed]",
            "text/plain": [
              "<Figure size 1296x432 with 3 Axes>"
            ]
          },
          "metadata": {
            "tags": [],
            "needs_background": "light"
          }
        }
      ]
    },
    {
      "cell_type": "code",
      "metadata": {
        "id": "M5auUdYc_Tc0"
      },
      "source": [
        "# Q2_graded\n",
        "# Do not change the above line.\n",
        "# This cell is for your codes."
      ],
      "execution_count": null,
      "outputs": []
    },
    {
      "cell_type": "markdown",
      "metadata": {
        "id": "gMWCmByc-7H5"
      },
      "source": [
        "# Q4. MLP"
      ]
    },
    {
      "cell_type": "code",
      "metadata": {
        "id": "wpWMwI6z--GX"
      },
      "source": [
        "# Q4_graded\n",
        "# Do not change the above line.\n",
        "\n",
        "# This cell is for your imports.\n",
        "\n",
        "from keras.layers import *\n",
        "from keras.optimizers import *\n",
        "from keras.models import Sequential\n",
        "from keras.datasets import mnist\n",
        "import numpy as np\n",
        "import keras\n",
        "import matplotlib.pyplot as plt"
      ],
      "execution_count": null,
      "outputs": []
    },
    {
      "cell_type": "code",
      "metadata": {
        "id": "kTmDh0Tw_Tuy",
        "colab": {
          "base_uri": "https://localhost:8080/"
        },
        "outputId": "bdc0839e-9770-4795-c128-30d45ff74154"
      },
      "source": [
        "# Q4_graded\n",
        "# Do not change the above line.\n",
        "#load data\n",
        "# This cell is for your codes.\n",
        "\n",
        "input_num = 28 *28\n",
        "output_num = 10\n",
        "\n",
        "(trainX, trainy), (testX, testy) = mnist.load_data()\n",
        "x = trainX.reshape(trainX.shape[0],input_num)\n",
        "x_test = testX.reshape(testX.shape[0],input_num)\n",
        "\n",
        "## normalize x\n",
        "X = x/255\n",
        "X_test = x_test/255 \n",
        "Y = keras.utils.to_categorical(trainy,output_num, np.float32)\n",
        "Y_test = keras.utils.to_categorical(testy,output_num,np.float32)\n",
        "\n",
        "print(X.shape)\n",
        "print(X_test.shape)\n",
        "\n",
        "print(Y.shape)\n",
        "print(Y_test.shape)\n"
      ],
      "execution_count": null,
      "outputs": [
        {
          "output_type": "stream",
          "text": [
            "(60000, 784)\n",
            "(10000, 784)\n",
            "(60000, 10)\n",
            "(10000, 10)\n"
          ],
          "name": "stdout"
        }
      ]
    },
    {
      "cell_type": "code",
      "metadata": {
        "id": "frBeD-ka_UAJ",
        "colab": {
          "base_uri": "https://localhost:8080/"
        },
        "outputId": "be5aaff1-415b-45c2-ebd2-dbb15f88cda3"
      },
      "source": [
        "# Q4_graded\n",
        "# Do not change the above line.\n",
        "# create model\n",
        "model = Sequential()\n",
        "model.add(Dense(150, activation='relu',input_shape= (input_num,)))\n",
        "model.add(Dense(30, activation='relu'))\n",
        "model.add(Dense(output_num, activation='softmax'))\n",
        "model.compile(optimizer='adam', loss='categorical_crossentropy', metrics=['accuracy'])\n",
        "model.summary()\n",
        "\n",
        "\n",
        "# This cell is for your codes."
      ],
      "execution_count": null,
      "outputs": [
        {
          "output_type": "stream",
          "text": [
            "Model: \"sequential_2\"\n",
            "_________________________________________________________________\n",
            "Layer (type)                 Output Shape              Param #   \n",
            "=================================================================\n",
            "dense_6 (Dense)              (None, 150)               117750    \n",
            "_________________________________________________________________\n",
            "dense_7 (Dense)              (None, 30)                4530      \n",
            "_________________________________________________________________\n",
            "dense_8 (Dense)              (None, 10)                310       \n",
            "=================================================================\n",
            "Total params: 122,590\n",
            "Trainable params: 122,590\n",
            "Non-trainable params: 0\n",
            "_________________________________________________________________\n"
          ],
          "name": "stdout"
        }
      ]
    },
    {
      "cell_type": "code",
      "metadata": {
        "colab": {
          "base_uri": "https://localhost:8080/"
        },
        "id": "c5I-1_oOUX39",
        "outputId": "1ac1ee02-6770-4cb2-fa2f-ad978e442cd4"
      },
      "source": [
        "# Q4_graded\n",
        "\n",
        "#train and test\n",
        "\n",
        "#train\n",
        "result = model.fit(x=X,y=Y,batch_size=500,epochs=20,validation_split=0.1)\n",
        "\n",
        "#test\n",
        "test_result = model.evaluate(x=X_test,y=Y_test,batch_size=30)\n"
      ],
      "execution_count": null,
      "outputs": [
        {
          "output_type": "stream",
          "text": [
            "Epoch 1/20\n",
            "108/108 [==============================] - 1s 9ms/step - loss: 1.0769 - accuracy: 0.6981 - val_loss: 0.2178 - val_accuracy: 0.9402\n",
            "Epoch 2/20\n",
            "108/108 [==============================] - 1s 7ms/step - loss: 0.2479 - accuracy: 0.9292 - val_loss: 0.1646 - val_accuracy: 0.9538\n",
            "Epoch 3/20\n",
            "108/108 [==============================] - 1s 7ms/step - loss: 0.1850 - accuracy: 0.9465 - val_loss: 0.1397 - val_accuracy: 0.9607\n",
            "Epoch 4/20\n",
            "108/108 [==============================] - 1s 7ms/step - loss: 0.1448 - accuracy: 0.9585 - val_loss: 0.1190 - val_accuracy: 0.9655\n",
            "Epoch 5/20\n",
            "108/108 [==============================] - 1s 8ms/step - loss: 0.1214 - accuracy: 0.9648 - val_loss: 0.1073 - val_accuracy: 0.9703\n",
            "Epoch 6/20\n",
            "108/108 [==============================] - 1s 8ms/step - loss: 0.1006 - accuracy: 0.9708 - val_loss: 0.0984 - val_accuracy: 0.9718\n",
            "Epoch 7/20\n",
            "108/108 [==============================] - 1s 8ms/step - loss: 0.0869 - accuracy: 0.9752 - val_loss: 0.0893 - val_accuracy: 0.9740\n",
            "Epoch 8/20\n",
            "108/108 [==============================] - 1s 8ms/step - loss: 0.0732 - accuracy: 0.9791 - val_loss: 0.0873 - val_accuracy: 0.9740\n",
            "Epoch 9/20\n",
            "108/108 [==============================] - 1s 7ms/step - loss: 0.0648 - accuracy: 0.9810 - val_loss: 0.0828 - val_accuracy: 0.9758\n",
            "Epoch 10/20\n",
            "108/108 [==============================] - 1s 7ms/step - loss: 0.0559 - accuracy: 0.9842 - val_loss: 0.0836 - val_accuracy: 0.9760\n",
            "Epoch 11/20\n",
            "108/108 [==============================] - 1s 7ms/step - loss: 0.0511 - accuracy: 0.9857 - val_loss: 0.0822 - val_accuracy: 0.9760\n",
            "Epoch 12/20\n",
            "108/108 [==============================] - 1s 7ms/step - loss: 0.0429 - accuracy: 0.9876 - val_loss: 0.0804 - val_accuracy: 0.9768\n",
            "Epoch 13/20\n",
            "108/108 [==============================] - 1s 8ms/step - loss: 0.0399 - accuracy: 0.9897 - val_loss: 0.0805 - val_accuracy: 0.9758\n",
            "Epoch 14/20\n",
            "108/108 [==============================] - 1s 8ms/step - loss: 0.0337 - accuracy: 0.9910 - val_loss: 0.0798 - val_accuracy: 0.9770\n",
            "Epoch 15/20\n",
            "108/108 [==============================] - 1s 8ms/step - loss: 0.0318 - accuracy: 0.9916 - val_loss: 0.0820 - val_accuracy: 0.9772\n",
            "Epoch 16/20\n",
            "108/108 [==============================] - 1s 7ms/step - loss: 0.0274 - accuracy: 0.9932 - val_loss: 0.0767 - val_accuracy: 0.9780\n",
            "Epoch 17/20\n",
            "108/108 [==============================] - 1s 7ms/step - loss: 0.0238 - accuracy: 0.9949 - val_loss: 0.0768 - val_accuracy: 0.9767\n",
            "Epoch 18/20\n",
            "108/108 [==============================] - 1s 7ms/step - loss: 0.0205 - accuracy: 0.9950 - val_loss: 0.0775 - val_accuracy: 0.9788\n",
            "Epoch 19/20\n",
            "108/108 [==============================] - 1s 7ms/step - loss: 0.0193 - accuracy: 0.9958 - val_loss: 0.0760 - val_accuracy: 0.9788\n",
            "Epoch 20/20\n",
            "108/108 [==============================] - 1s 7ms/step - loss: 0.0164 - accuracy: 0.9967 - val_loss: 0.0778 - val_accuracy: 0.9798\n",
            "334/334 [==============================] - 1s 2ms/step - loss: 0.0809 - accuracy: 0.9770\n"
          ],
          "name": "stdout"
        }
      ]
    },
    {
      "cell_type": "code",
      "metadata": {
        "id": "bUsuAVHEWPIU",
        "colab": {
          "base_uri": "https://localhost:8080/",
          "height": 312
        },
        "outputId": "4fa578d4-8ccf-4a52-c15e-c286975131a7"
      },
      "source": [
        "# Q4_graded\n",
        "\n",
        "# draw loss and accurcy\n",
        "\n",
        "print(f'Accuracy : {test_result[1]} and Loss : {test_result[0]} ')\n",
        "fig, (ax, err) = plt.subplots(1, 2)\n",
        "ax.plot(result.history['accuracy'])\n",
        "ax.title.set_text('accurcy')\n",
        "ax.set_xlabel('iteration')\n",
        "ax.set_ylabel('accuracy')\n",
        "\n",
        "err.plot(result.history['loss'])\n",
        "err.title.set_text('loss')\n",
        "err.set_xlabel('iteration')\n",
        "err.set_ylabel('loss')\n",
        "\n",
        "plt.show()"
      ],
      "execution_count": null,
      "outputs": [
        {
          "output_type": "stream",
          "text": [
            "Accuracy : 0.9769999980926514 and Loss : 0.08088327199220657 \n"
          ],
          "name": "stdout"
        },
        {
          "output_type": "display_data",
          "data": {
            "image/png": "[encoded data removed]",
            "text/plain": [
              "<Figure size 432x288 with 2 Axes>"
            ]
          },
          "metadata": {
            "tags": [],
            "needs_background": "light"
          }
        }
      ]
    },
    {
      "cell_type": "markdown",
      "metadata": {
        "id": "XYu2rMtB_FxI"
      },
      "source": [
        "# Q5. Back-Propagation"
      ]
    },
    {
      "cell_type": "code",
      "metadata": {
        "id": "zbCqds5p_Gx2"
      },
      "source": [
        "# Q5_graded\n",
        "# Do not change the above line.\n",
        "\n",
        "# This cell is for your imports\n",
        "\n",
        "from keras.layers import *\n",
        "from keras.optimizers import *\n",
        "from keras.models import Sequential\n",
        "from keras.datasets import mnist\n",
        "import numpy as np\n",
        "import matplotlib.pyplot as plt\n",
        "import keras"
      ],
      "execution_count": null,
      "outputs": []
    },
    {
      "cell_type": "code",
      "metadata": {
        "colab": {
          "base_uri": "https://localhost:8080/"
        },
        "id": "_DkIgkeD_Ubv",
        "outputId": "bbe68c83-2564-4653-ccba-b073cdab240d"
      },
      "source": [
        "# Q5_graded\n",
        "# Do not change the above line.\n",
        "## LOAD DATA\n",
        "\n",
        "\n",
        "(trainX, trainy), (testX, testy) = mnist.load_data()\n",
        "X = trainX.reshape(trainX.shape[0],28*28)\n",
        "X_test = testX.reshape(testX.shape[0],28*28)\n",
        "Y = keras.utils.to_categorical(trainy,10,np.float32)\n",
        "Y_test = keras.utils.to_categorical(testy,10,np.float32)\n",
        "\n",
        "x_train_q5_tmp = X.T\n",
        "x_train_q5 = x_train_q5_tmp / 255\n",
        "\n",
        "x_test_q5_tmp = X_test.T\n",
        "x_test_q5 = x_test_q5_tmp / 255\n",
        "\n",
        "\n",
        "y_train_q5 = Y.T\n",
        "y_test_q5 = Y_test.T\n",
        "\n",
        "print(x_train_q5.shape)\n",
        "print(y_train_q5.shape)\n",
        "\n",
        "# This cell is for your codes.s"
      ],
      "execution_count": null,
      "outputs": [
        {
          "output_type": "stream",
          "text": [
            "(784, 60000)\n",
            "(10, 60000)\n"
          ],
          "name": "stdout"
        }
      ]
    },
    {
      "cell_type": "code",
      "metadata": {
        "id": "dVLmzv43_UrQ"
      },
      "source": [
        "# Q5_graded\n",
        "\n",
        "# Nerual Network class\n",
        "\n",
        "class NN():\n",
        "    def __init__(self, layer_dim, l_rate=0.2, iteration=100):\n",
        "      self.params = {}\n",
        "      self.costs = []\n",
        "      self.accuracys = []\n",
        "      self.l_rate = l_rate\n",
        "      self.iteration = iteration\n",
        "      for i in range(1, len(layer_dim)):\n",
        "        self.params['W' + str(i)] = np.random.randn(layer_dim[i], layer_dim[i - 1]) * 0.01\n",
        "        self.params['b' + str(i)] = np.zeros((layer_dim[i], 1)) * 0.01\n",
        "\n",
        "    def relu(self,z):\n",
        "      return (np.maximum(0, z), z)\n",
        "\n",
        "    def relu_retrieve(self, dA, cache):\n",
        "      z = cache\n",
        "      dz = np.array(dA, copy=True)\n",
        "      dz[z <= 0] = 0\n",
        "      return dz\n",
        "\n",
        "    def softmax(self, z):\n",
        "      z = z - np.max(z, axis=0, keepdims=True)\n",
        "      A = np.exp(z) / np.sum(np.exp(z), axis=0, keepdims=True)\n",
        "      return (A, z)\n",
        "\n",
        "    def softmax_retrieve(self, dA, cache):\n",
        "      z = cache\n",
        "      soft_out, cache = self.softmax(z)\n",
        "      dz = dA * soft_out * (1 - soft_out)\n",
        "      return dz\n",
        "\n",
        "    def linear_forward(self, A, W, b):\n",
        "        z = np.dot(W, A) + b\n",
        "        return (z, (A, W, b))\n",
        "\n",
        "    # compute the activation of linear_forward\n",
        "    def linear_activation_forward(self, A, W, b, activation):\n",
        "        z, linear_cache = self.linear_forward(A, W, b)\n",
        "\n",
        "        if activation == 'softmax':\n",
        "            A, activation_cache = self.softmax(z)\n",
        "            cache = (linear_cache, activation_cache)\n",
        "            return A, cache\n",
        "        elif activation == 'relu':\n",
        "            A, activation_cache = self.relu(z)\n",
        "            cache = (linear_cache, activation_cache)\n",
        "            return (A, cache)\n",
        "\n",
        "    def forward_propagate(self, X):\n",
        "        L = len(self.params) // 2\n",
        "        caches = []\n",
        "\n",
        "        # for layer 0 - > L-1\n",
        "        A = X\n",
        "\n",
        "        for i in range(1, L):\n",
        "            W = self.params['W' + str(i)]\n",
        "            b = self.params['b' + str(i)]\n",
        "            A, cache = self.linear_activation_forward(A, W, b, 'relu')\n",
        "            caches.append(cache)\n",
        "\n",
        "        # last layer : Al --> last A\n",
        "        Al, cache = self.linear_activation_forward(A, self.params['W' + str(L)], self.params['b' + str(L)], 'softmax')\n",
        "        \n",
        "        caches.append(cache)\n",
        "        return (Al, caches)\n",
        "\n",
        "    def linear_backward(self, dz, cache):\n",
        "        A_pre, W, b = cache\n",
        "        m = A_pre.shape[1]\n",
        "        dA_prev = np.dot(W.T, dz)\n",
        "        dW = np.dot(dz, A_pre.T) / m\n",
        "        db = np.sum(dz, axis=1, keepdims=True) / m\n",
        "        return (dA_prev, dW, db)\n",
        "\n",
        "    def back_propagate(self, Al, Y, caches):\n",
        "        L = len(caches)\n",
        "        grads = {}\n",
        "\n",
        "        ## out put layer back prop\n",
        "        dAl = - (np.divide(Y, Al) - np.divide(1 - Y, 1 - Al))\n",
        "        linear_cache, active_cache = caches[-1]\n",
        "        dz = self.softmax_retrieve(dAl, active_cache)\n",
        "        tmp = self.linear_backward(dz, linear_cache)\n",
        "        grads[\"dA\" + str(L)] = tmp[0]\n",
        "        grads[\"dW\" + str(L)] = tmp[1]\n",
        "        grads[\"db\" + str(L)] = tmp[2]\n",
        "\n",
        "        # other hidden layers back prop\n",
        "        for i in reversed(range(L-1)):\n",
        "            linear_cache, active_cache = caches[i]\n",
        "            dA = grads[\"dA\" + str(i + 2)]\n",
        "            dz = self.relu_retrieve(dA, active_cache)\n",
        "            tmp = self.linear_backward(dz, linear_cache)\n",
        "            grads[\"dA\" + str(i + 1)] = tmp[0]\n",
        "            grads[\"dW\" + str(i + 1)] = tmp[1]\n",
        "            grads[\"db\" + str(i + 1)] = tmp[2]\n",
        "\n",
        "        return grads\n",
        "\n",
        "    # update weights and bias \n",
        "    def update(self, gradients):\n",
        "        L = len(self.params) // 2\n",
        "        for i in range(L):\n",
        "            weight_i = 'W' + str(i+1)\n",
        "            bias_i = 'b' + str(i+1)\n",
        "            dW = gradients['dW' + str(i+1)]\n",
        "            self.params[weight_i] -=(self.l_rate * dW)\n",
        "            db = gradients['db' + str(i+1)]\n",
        "            self.params[bias_i] -= (self.l_rate * db)\n",
        "\n",
        "    def train(self, X, Y):\n",
        "        for i in range(self.iteration):\n",
        "            Al, all_caches = self.forward_propagate(X)\n",
        "            self.compute_cost(Al, Y)\n",
        "            self.compute_accuracy(Al, Y)\n",
        "            gradients = self.back_propagate(Al, Y, all_caches)\n",
        "            self.update(gradients)\n",
        "            if (i % 10 == 0 or i == self.iteration - 1):\n",
        "              print(f'Iteration  ===>   {i}/{self.iteration}   cost :  {self.costs[-1]},   accuracy {self.accuracys[-1]}')\n",
        "\n",
        "    def compute_cost(self,Al, Y):\n",
        "      samples = Y.shape[1]\n",
        "      loss = -1 * (Y * np.log(Al) + (1 - Y) * np.log(1 - Al))\n",
        "      cost = np.sum(loss) / samples\n",
        "      self.costs.append(cost)\n",
        "\n",
        "    def compute_accuracy(self,Al, Y):\n",
        "      samples = Y.shape[1]\n",
        "      max_index_predict = np.argmax(Al,axis=0)\n",
        "      max_index_Y_label = np.argmax(Y, axis=0)\n",
        "      equal_indexs = (max_index_predict == max_index_Y_label)\n",
        "      sum_all_equal_index = np.sum(equal_indexs)\n",
        "      accuracy = sum_all_equal_index / samples\n",
        "      self.accuracys.append(accuracy)\n"
      ],
      "execution_count": null,
      "outputs": []
    },
    {
      "cell_type": "code",
      "metadata": {
        "id": "OkILlf-w5BWf",
        "colab": {
          "base_uri": "https://localhost:8080/",
          "height": 790
        },
        "outputId": "e56a4bb5-e6b0-452f-8976-aa815bde3367"
      },
      "source": [
        "# Q5_graded\n",
        "# run the program\n",
        "\n",
        "neroun_in_hidden_layer = 120\n",
        "\n",
        "n = NN([x_train_q5.shape[0], neroun_in_hidden_layer, y_train_q5.shape[0]],iteration=200)\n",
        "print(x_train_q5.shape)\n",
        "print(y_train_q5.shape)\n",
        "n.train(x_train_q5, y_train_q5)\n",
        "\n",
        "fig = plt.figure(figsize=(12, 6))\n",
        "ax = fig.add_subplot(121)\n",
        "ax.title.set_text('Costs chart')\n",
        "ax.set_xlabel('itration')\n",
        "ax.set_ylabel('cost')\n",
        "ax.plot(n.costs)\n",
        "\n",
        "ax2 = fig.add_subplot(122)\n",
        "ax2.title.set_text('accuracy chart')\n",
        "ax2.set_xlabel('itration')\n",
        "ax2.set_ylabel('accuracy')\n",
        "ax2.plot(n.accuracys)\n",
        "\n",
        "plt.show()\n"
      ],
      "execution_count": null,
      "outputs": [
        {
          "output_type": "stream",
          "text": [
            "(784, 60000)\n",
            "(10, 60000)\n",
            "Iteration  ===>   0/200   cost :  3.2494331350064267,   accuracy 0.19361666666666666\n",
            "Iteration  ===>   10/200   cost :  3.2104728043929414,   accuracy 0.5655166666666667\n",
            "Iteration  ===>   20/200   cost :  3.0487848481177426,   accuracy 0.6001666666666666\n",
            "Iteration  ===>   30/200   cost :  2.578215873640894,   accuracy 0.6785\n",
            "Iteration  ===>   40/200   cost :  1.9798364345173027,   accuracy 0.7247166666666667\n",
            "Iteration  ===>   50/200   cost :  1.5562934074768167,   accuracy 0.7798833333333334\n",
            "Iteration  ===>   60/200   cost :  1.292619784990949,   accuracy 0.8116666666666666\n",
            "Iteration  ===>   70/200   cost :  1.122988017872437,   accuracy 0.8319833333333333\n",
            "Iteration  ===>   80/200   cost :  1.007274061752069,   accuracy 0.8471333333333333\n",
            "Iteration  ===>   90/200   cost :  0.9237527798803686,   accuracy 0.8584333333333334\n",
            "Iteration  ===>   100/200   cost :  0.8606190710292118,   accuracy 0.86705\n",
            "Iteration  ===>   110/200   cost :  0.8112198188729214,   accuracy 0.8734\n",
            "Iteration  ===>   120/200   cost :  0.7715887580894495,   accuracy 0.8781666666666667\n",
            "Iteration  ===>   130/200   cost :  0.7391677374433343,   accuracy 0.8825166666666666\n",
            "Iteration  ===>   140/200   cost :  0.712204280262365,   accuracy 0.8860166666666667\n",
            "Iteration  ===>   150/200   cost :  0.6894492387018678,   accuracy 0.88895\n",
            "Iteration  ===>   160/200   cost :  0.6699793286232952,   accuracy 0.8911666666666667\n",
            "Iteration  ===>   170/200   cost :  0.6531066762550856,   accuracy 0.8933333333333333\n",
            "Iteration  ===>   180/200   cost :  0.6383139900292981,   accuracy 0.8954666666666666\n",
            "Iteration  ===>   190/200   cost :  0.6251923278705764,   accuracy 0.89705\n",
            "Iteration  ===>   199/200   cost :  0.6145598375789543,   accuracy 0.8984\n"
          ],
          "name": "stdout"
        },
        {
          "output_type": "display_data",
          "data": {
            "image/png": "[encoded data removed]",
            "text/plain": [
              "<Figure size 864x432 with 2 Axes>"
            ]
          },
          "metadata": {
            "tags": [],
            "needs_background": "light"
          }
        }
      ]
    },
    {
      "cell_type": "code",
      "metadata": {
        "id": "OdvisH5z75Iv",
        "colab": {
          "base_uri": "https://localhost:8080/"
        },
        "outputId": "cf66980e-0850-47a3-e64e-920be8ec5d14"
      },
      "source": [
        "# Q5_graded\n",
        "# run the program\n",
        "# evaluate model\n",
        "\n",
        "Al_test, caches = n.forward_propagate(x_test_q5)\n",
        "n.compute_accuracy(Al_test, y_test_q5)\n",
        "n.compute_cost(Al_test, y_test_q5)\n",
        "print(f'accuracy : {n.accuracys[-1]}')\n",
        "print(f'cost : {n.costs[-1]}')\n",
        "\n"
      ],
      "execution_count": null,
      "outputs": [
        {
          "output_type": "stream",
          "text": [
            "accuracy : 0.9022\n",
            "cost : 0.5869670804685854\n"
          ],
          "name": "stdout"
        }
      ]
    },
    {
      "cell_type": "markdown",
      "metadata": {
        "id": "iRqYhKw1rgUp"
      },
      "source": [
        "\n",
        "# <font color='red'>Submission</font>\n",
        "\n",
        "1. Sign up in [Gradescope](https://www.gradescope.com) with proper name and student ID and use the following code to join the class: <font color='red'>**D5372R**</font>\n",
        "2. Fill in your full name (seperated by single spaces) and student ID in the beginning of this notebook.\n",
        "3. After you're done with this notebook, you should do the following:\n",
        "  - Clear all outputs of the notebook.\n",
        "  ![clear all outputs](https://i.ibb.co/y6FrttB/Screen-Shot-2021-03-21-at-01-51-42.png)\n",
        "  - Run all of the cells (if you skipped a question just leave the cell unchanged), and make sure all of your outputs are correct.\n",
        "  ![run all](https://i.ibb.co/cgRcBZ0/Screen-Shot-2021-03-21-at-01-54-58.png)\n",
        "  - Save your notebook.\n",
        "  \n",
        "  - If you're using Colab, download your notebook.\n",
        "  ![download ipynb](https://i.ibb.co/2KxYM6K/Screen-Shot-2021-03-21-at-02-03-50.png)\n",
        "  \n",
        "  - Put the notebook file you just downloaded and `convert.py` in the same folder run the following command:\n",
        "  ```bash\n",
        "  python convert.py\n",
        "  ```\n",
        "  This will export your code for each question into a `.py` file.\n",
        "    - **Note**: if you want to add more cells, add this to the **first** line of the cell:\n",
        "  ```python\n",
        "  # Q5_graded\n",
        "  ```\n",
        "  according to the question number.\n",
        "  - There are 2 assignments in Gradescope:\n",
        "\n",
        "    ![assignments](https://i.ibb.co/10GMhGM/Screen-Shot-2021-03-21-at-02-16-25.png)\n",
        "  \n",
        "    You should upload your **codes** and your **notebook** in `HW1` section and your final report for all of the questions as a **single pdf** file in `HW1 - Report`. Autograder will automatically check for:\n",
        "    - `CI992_HW1.ipynb`\n",
        "    - `Q1.py`\n",
        "    - `Q2.py`\n",
        "    - `Q4.py`\n",
        "    - `Q5.py`\n",
        "    - Your name and ID in the beginning of `.ipynb` file.\n",
        "\n",
        "    It is important that you <font color='red'>**don't**</font> change the names of these files before submission.\n",
        "\n",
        "4. If you pass the autograder, you're good to go."
      ]
    },
    {
      "cell_type": "code",
      "metadata": {
        "id": "-HLsxfxPp7IY"
      },
      "source": [],
      "execution_count": null,
      "outputs": []
    }
  ]
}